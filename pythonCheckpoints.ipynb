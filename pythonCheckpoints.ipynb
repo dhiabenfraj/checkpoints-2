{
 "cells": [
  {
   "cell_type": "markdown",
   "metadata": {},
   "source": [
    "# Question 1\n",
    "Write a program which will find all such numbers which are divisible by 7 but are not a multiple of 5, between 2000 and 3200 (both included). The numbers obtained should be printed in a list.\n",
    "\n"
   ]
  },
  {
   "cell_type": "code",
   "execution_count": 1,
   "metadata": {},
   "outputs": [
    {
     "name": "stdout",
     "output_type": "stream",
     "text": [
      "[2002, 2009, 2016, 2023, 2037, 2044, 2051, 2058, 2072, 2079, 2086, 2093, 2107, 2114, 2121, 2128, 2142, 2149, 2156, 2163, 2177, 2184, 2191, 2198, 2212, 2219, 2226, 2233, 2247, 2254, 2261, 2268, 2282, 2289, 2296, 2303, 2317, 2324, 2331, 2338, 2352, 2359, 2366, 2373, 2387, 2394, 2401, 2408, 2422, 2429, 2436, 2443, 2457, 2464, 2471, 2478, 2492, 2499, 2506, 2513, 2527, 2534, 2541, 2548, 2562, 2569, 2576, 2583, 2597, 2604, 2611, 2618, 2632, 2639, 2646, 2653, 2667, 2674, 2681, 2688, 2702, 2709, 2716, 2723, 2737, 2744, 2751, 2758, 2772, 2779, 2786, 2793, 2807, 2814, 2821, 2828, 2842, 2849, 2856, 2863, 2877, 2884, 2891, 2898, 2912, 2919, 2926, 2933, 2947, 2954, 2961, 2968, 2982, 2989, 2996, 3003, 3017, 3024, 3031, 3038, 3052, 3059, 3066, 3073, 3087, 3094, 3101, 3108, 3122, 3129, 3136, 3143, 3157, 3164, 3171, 3178, 3192, 3199]\n"
     ]
    }
   ],
   "source": [
    "div = []\n",
    "for number in range(2000, 3201):\n",
    "    if number % 7 == 0 and number % 5 != 0:\n",
    "        div.append(number)\n",
    "\n",
    "print(div)\n",
    "\n",
    "# or we can do it with one line\n",
    "div = [number for number in range(2000, 3201) if number % 7 == 0 and number % 5 != 0]"
   ]
  },
  {
   "cell_type": "markdown",
   "metadata": {},
   "source": [
    "# Question 2 \n",
    "Write a program which can compute the factorial of a given number. (the factorial of n is the product of all positive integers less than or equal to n). for example factorial(5)= 5 x 4 x 3 x 2 x 1 the result is 120.  (i.e. factorial (0)=1)"
   ]
  },
  {
   "cell_type": "code",
   "execution_count": 2,
   "metadata": {},
   "outputs": [
    {
     "name": "stdout",
     "output_type": "stream",
     "text": [
      "number :1\n",
      "0\n"
     ]
    }
   ],
   "source": [
    "number = int(input(\"number :\"))\n",
    "\n",
    "def factorial(number):\n",
    "    f = 1\n",
    "    for i in range(2, number + 1):\n",
    "        f *= i\n",
    "    return f\n",
    "\n",
    "if number == 1:\n",
    "    print(0)\n",
    "else:\n",
    "    print(factorial(number))\n"
   ]
  },
  {
   "cell_type": "markdown",
   "metadata": {},
   "source": [
    "# Question 3 \n",
    "With a given integer number n, write a program to generate a dictionary that contains (i, i*i) such that is an integral number between 1 and n (both included). and then the program should print the dictionary. Suppose the following input is supplied to the program: 8 Then, the output should be: {1: 1, 2: 4, 3: 9, 4: 16, 5: 25, 6: 36, 7: 49, 8: 64} "
   ]
  },
  {
   "cell_type": "code",
   "execution_count": 3,
   "metadata": {},
   "outputs": [
    {
     "name": "stdout",
     "output_type": "stream",
     "text": [
      "number: 8\n",
      "{1: 1, 2: 4, 3: 9, 4: 16, 5: 25, 6: 36, 7: 49, 8: 64}\n"
     ]
    }
   ],
   "source": [
    "n = int(input(\"number: \"))\n",
    "d = dict()\n",
    "\n",
    "for i in range(1, n + 1):\n",
    "    d[i] = i*i\n",
    "\n",
    "print(d)"
   ]
  },
  {
   "cell_type": "markdown",
   "metadata": {},
   "source": [
    "# Question 4 \n",
    "Given a non-empty string and an int n, return a new string where the char at index n has been removed. The value of n will be a valid index of a char in the original string (i.e. n will be in the range 0..len(str)-1 inclusive). "
   ]
  },
  {
   "cell_type": "code",
   "execution_count": 4,
   "metadata": {},
   "outputs": [
    {
     "name": "stdout",
     "output_type": "stream",
     "text": [
      "word: xriadh\n",
      "index: 0\n",
      "riadh\n"
     ]
    }
   ],
   "source": [
    "while True:\n",
    "    word = input(\"word: \")\n",
    "    if word != '':\n",
    "        break\n",
    "\n",
    "while True:\n",
    "    index = int(input(\"index: \"))\n",
    "    if index in range(len(word)):\n",
    "        break\n",
    "\n",
    "print(word[:index] + word[index + 1:])"
   ]
  },
  {
   "cell_type": "markdown",
   "metadata": {},
   "source": [
    "# Question 5 \n",
    "Write a NumPy program to convert a NumPy array into a Python list structure.\n",
    "\n",
    "Expected Output: \n",
    "\n",
    "Original array elements: [[0 1] [2 3] [4 5]] \n",
    "\n",
    "Array to list: [[0, 1], [2, 3], [4, 5]] \n",
    " \n",
    "\n",
    "Hint: we can use the to_list() function to ensure the conversion"
   ]
  },
  {
   "cell_type": "code",
   "execution_count": 5,
   "metadata": {},
   "outputs": [
    {
     "data": {
      "text/plain": [
       "[[0, 1], [2, 3], [4, 5]]"
      ]
     },
     "execution_count": 5,
     "metadata": {},
     "output_type": "execute_result"
    }
   ],
   "source": [
    "import numpy as np\n",
    "arr = np.array([[0, 1], [2, 3], [4, 5]])\n",
    "arr.tolist()"
   ]
  },
  {
   "cell_type": "markdown",
   "metadata": {},
   "source": [
    "# Question 6\n",
    "Write a NumPy program to compute the covariance matrix of two given arrays. \n",
    "\n",
    "Original array1: [0 1 2] \n",
    "\n",
    "Original array2: [2 1 0] \n",
    "\n",
    "Covariance matrix of the said arrays: [[ 1. -1.] [-1. 1.]]\n",
    " \n",
    "\n",
    "Hint: We can use the np.cov() function to calculate the covariance between these two arrays\n",
    "\n"
   ]
  },
  {
   "cell_type": "code",
   "execution_count": 6,
   "metadata": {},
   "outputs": [
    {
     "name": "stdout",
     "output_type": "stream",
     "text": [
      "[[ 1. -1.]\n",
      " [-1.  1.]]\n"
     ]
    }
   ],
   "source": [
    "import numpy as np\n",
    "\n",
    "arr1 = [0, 1, 2]\n",
    "arr2 = [2, 1, 0]\n",
    "\n",
    "cov = np.cov(arr1, arr2)\n",
    "\n",
    "print(cov)"
   ]
  },
  {
   "cell_type": "markdown",
   "metadata": {},
   "source": [
    "# Question 7\n",
    "Question: Write a program that calculates and prints the value according to the given formula: Q = Square root of [(2 * C * D)/H] \n",
    "\n",
    "Following are the fixed values of C and H: C is 50. H is 30. \n",
    "\n",
    "D is the variable whose values should be input to your program in a comma-separated sequence. (that means D contains more than value)\n",
    "\n",
    "Example Let's assume the following comma separated input sequence is given to the program: 100,150,180 The output of the program should be: 18,22,24 \n",
    "\n",
    "To more understand we will obtain a result for each value of D:  Q1= Square root of [(2 * C * 100)/H] =18, Q2= Square root of [(2 * C * 150)/H] = 22 and Q3 = Square root of [(2 * C * 180)/H]  = 24\n",
    "\n",
    "Hints: If the output received is in decimal form, it should be rounded off to its nearest value (for example, if the output received is 26.0, it should be printed as 26) In case of input data being supplied to the question, it should be assumed to be a console input. "
   ]
  },
  {
   "cell_type": "code",
   "execution_count": 7,
   "metadata": {},
   "outputs": [
    {
     "name": "stdout",
     "output_type": "stream",
     "text": [
      "D: 100,150,180\n",
      "18\n",
      "22\n",
      "24\n"
     ]
    }
   ],
   "source": [
    "import math\n",
    "\n",
    "C = 50\n",
    "H = 30\n",
    "D = input(\"D: \")\n",
    "\n",
    "for num in D.split(','):\n",
    "    print(int(math.sqrt((2 * C * int(num)) / H)))"
   ]
  },
  {
   "cell_type": "code",
   "execution_count": null,
   "metadata": {},
   "outputs": [],
   "source": []
  }
 ],
 "metadata": {
  "kernelspec": {
   "display_name": "Python 3",
   "language": "python",
   "name": "python3"
  },
  "language_info": {
   "codemirror_mode": {
    "name": "ipython",
    "version": 3
   },
   "file_extension": ".py",
   "mimetype": "text/x-python",
   "name": "python",
   "nbconvert_exporter": "python",
   "pygments_lexer": "ipython3",
   "version": "3.8.5"
  }
 },
 "nbformat": 4,
 "nbformat_minor": 4
}
